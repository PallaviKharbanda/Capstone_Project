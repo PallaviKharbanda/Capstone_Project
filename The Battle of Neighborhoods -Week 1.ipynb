{
    "cells": [
        {
            "cell_type": "markdown",
            "metadata": {
                "collapsed": true
            },
            "source": "# The Battle of Neighborhoods -Week 1"
        },
        {
            "cell_type": "markdown",
            "metadata": {},
            "source": "## Introduction:"
        },
        {
            "cell_type": "markdown",
            "metadata": {},
            "source": "NewYork City has been described as the cultural, financial, and media capital of the world, and exerts a significant impact upon commerce, entertainment, research, technology, education, politics, tourism, art, fashion, and sports. Many districts and landmarks in NewYork City are well known, including three of the world's ten most visited tourist attractions in 2013; a record 62.8 million tourists visited in 2017. NewYork is the city that the rest of the world tends to use as their respective country\u2019s identifier.\n\nNewYork City is a city of immigrants, and these diverse groups from around the globe have contributed to a constantly evolving definition of urban food culture. Italian, Jewish, and Chinese foods and recipes play critical roles in the city\u2019s culinary culture. Therefore cuisine of NewYork City comprises many cuisines belonging to various ethnic groups that have entered the United States through the city. In New York City there are over 12,000 bodegas, delis and groceries and many among them are open 24 hours a day, 7 days a week. This also means that the market is highly competitive. As it is highly developed city so cost of doing business is also one of the highest. Thus, any new business venture or expansion needs to be analysed carefully. Of course, as with any business decision, opening a restaurant requires a serious consideration and is a lot more complicated than it seems. Partcularly, the location of restaurants is one of the most important decisions that will determine whether opening a restauant will be a success or failure.\n\n## Business Problem:\n\nThis projects aims to analyse and select the best location to open a new restaurant in NewYork city. Using data science nethodology and machine learning techniques like clustering, this capstone project aims to provide solution to answer the business question: in the city of NewYork, if a developer is looking to open a restaurant, where would you recommend that they open it. The insights derived from analysis will give good understanding of the business environment which help in strategically targeting the market. This will help in reduction of risk. And the Return on Investment will be reasonable.\n"
        },
        {
            "cell_type": "markdown",
            "metadata": {},
            "source": "## Target Audience:\n\nThe objective is to recommend to a Foodchain company which neighborhood of NewYork city will be best choice to open a restaurant in terms of competition. The Management also expects to understand the rationale of the recommendations made. This would interest anyone who wants an insight into similar type of situation. The success criteria of the project will be a good recommendation of borough/Neighborhood choice to the management based on lack of such restaurants in that location."
        },
        {
            "cell_type": "code",
            "execution_count": null,
            "metadata": {},
            "outputs": [],
            "source": ""
        }
    ],
    "metadata": {
        "kernelspec": {
            "display_name": "Python 3.6",
            "language": "python",
            "name": "python3"
        },
        "language_info": {
            "codemirror_mode": {
                "name": "ipython",
                "version": 3
            },
            "file_extension": ".py",
            "mimetype": "text/x-python",
            "name": "python",
            "nbconvert_exporter": "python",
            "pygments_lexer": "ipython3",
            "version": "3.6.8"
        }
    },
    "nbformat": 4,
    "nbformat_minor": 1
}