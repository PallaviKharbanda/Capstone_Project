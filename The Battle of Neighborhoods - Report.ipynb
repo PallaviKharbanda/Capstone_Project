{
    "cells": [
        {
            "cell_type": "markdown",
            "metadata": {
                "collapsed": true
            },
            "source": "# The Battle of Neighborhoods - Report\n\n## Introduction:\nNewYork City has been described as the cultural, financial, and media capital of the world, and exerts a significant impact upon commerce, entertainment, research, technology, education, politics, tourism, art, fashion, and sports. Many districts and landmarks in NewYork City are well known, including three of the world's ten most visited tourist attractions in 2013; a record 62.8 million tourists visited in 2017. NewYork is the city that the rest of the world tends to use as their respective country\u2019s identifier.\n\nNewYork City is a city of immigrants, and these diverse groups from around the globe have contributed to a constantly evolving definition of urban food culture. Italian, Jewish, and Chinese foods and recipes play critical roles in the city\u2019s culinary culture. Therefore cuisine of NewYork City comprises many cuisines belonging to various ethnic groups that have entered the United States through the city. In New York City there are over 12,000 bodegas, delis and groceries and many among them are open 24 hours a day, 7 days a week. This also means that the market is highly competitive. As it is highly developed city so cost of doing business is also one of the highest. Thus, any new business venture or expansion needs to be analysed carefully. Of course, as with any business decision, opening a restaurant requires a serious consideration and is a lot more complicated than it seems. Partcularly, the location of restaurants is one of the most important decisions that will determine whether opening a restauant will be a success or failure.\n\n\n## Business Problem:\n \nThis projects aims to analyse and select the best location to open a new restaurant in NewYork city. Using data science nethodology and machine learning techniques like clustering, this capstone project aims to provide solution to answer the business question: in the city of NewYork, if a developer is looking to open a restaurant, where would you recommend that they open it. The insights derived from analysis will give good understanding of the business environment which help in strategically targeting the market. This will help in reduction of risk. And the Return on Investment will be reasonable.  \n\n## Target Audience:\n\nThe objective is to recommend to a Foodchain company which neighborhood of NewYork city will be best choice to open a restaurant in terms of competition. The Management also expects to understand the rationale of the recommendations made. This would interest anyone who wants an insight into similar type of situation. The success criteria of the project will be a good recommendation of borough/Neighborhood choice to the management based on lack of such restaurants in that location.\n\n## Data:\n\nThe data used for this type of analysis will be acquired from NewYork City's Wikipedia website page. The dataset consists of postal codes, neighborhood names, latitide and longitude information for each neighborhood. Foursquare API search feature will be used to collect neighborhood venue information. Details about local venue and locality will provide an insight into the quality of neighborhood. In addition to Foursquare, various Python packages will be used to create maps and machine learning models to further provide insight into our The Battle of Neighborhoods project.\nThe following datasets are used from their websites:\n\nNewYork City Neighborhoods: https://geo.nyu.edu/catalog/nyu_2451_34572\n\nNewYork City Latitude and Longitude: Python Geopy Library\n\nPandas and numpy for handling data.\n\nRequest module for using FourSquare API.\n\nFolium to visualize the results on a map\n\n\n "
        },
        {
            "cell_type": "markdown",
            "metadata": {},
            "source": "## Methodology:\n The main goal is to get the optimum location for a new restaurant business for a Foodchain company in terms of competition in the city of NewYork. NewYork city has a total of 5 boroughs (Bronx, Brooklyn, Manhattan, Staten Island and Queens) and 306 neighborhoods. In order to segement the neighborhoods and explore them, we essentially need a dataset that contains the 5 boroughs and the neighborhoods that exist in each borough as well as the the latitude and logitude coordinates of each neighborhood. Luckily, this dataset exists for free on the web.  Here is the link to the dataset: https://geo.nyu.edu/catalog/nyu_2451_34572 After gathering the data, we populate the data in Pandas DataFrame and then visualize the neighborhoods in a map using Folium package.\n \n Next we have used Foursquare API to get the top 200 venue data within radius of 1000 meters for those neighborhoods. Foursquare has one of the largest database of 105+ million places and is used by over 125000 developers. Foursquare API provided many categories of the venue data out of that we focused on restaurant category to help us solve the business problem put forward.\n \n Lastly, we performed clustering of data by using k-means clustering.  We obtained Silhouette Coefficient for clusters in range (2,10) and got the highest Silhouette Coefficient for n_clusters=2. Then we run k-means to cluster the neighborhood into 2 clusters. The results allowed us to identify which neighorhoods have higher concentration of restaurants while which neighborhoods have fewer number. Based on the occurence of restaurants in different neighborhoods, we could answer the question as to which neighborhoods are more suitable to open new restaurant."
        },
        {
            "cell_type": "markdown",
            "metadata": {},
            "source": "## Results:\nThe results from the k-means clustering show that the neighborhoods can be categorized into 2 clusters based on the frequency of occurence of restaurants.\n\nCluster 0 represents the neighborhoods with no restaurants wheras\n\nCluster 1 represents neighborhoods with high concentration of restaurants.\n\n\n## Discussion\nCluster 1 has high number of restaurants located in various neighborhoods of Manhattan, Bronx, Queens, Brooklyn and Staten Island. On the other hand, cluster 0 has no restaurant in Clason Point neighborhood of Bronx and a few neighborhoods of Staten Island. This represents a great opportunity and high potential areas to open new restaurants as there is no competition. Meanwhile, restaurants in cluster 1 are likely suffering from intense competition due to oversupply and high concentration of restaurants. Therefore, this project recommends developers to capitalize on these findings to open new restaurants in selected neighborhoods of cluster 0 with no competition. Also, developers are advised to avoid neighborhoods in cluster 1 which already have high concentration of restaurants and suffering from intense competition.\n\n## Conclusion:\n In this project, we have gone through the process of identifying the business problem, specifying the data required, extracting and preparing the data, performimg machine learning by clustering the data based on their similarities and lastly providing recommendations to relevant stakeholders regarding the best location to open a restaurant. To answer the question that was raised in the introduction section of the project The findings of this project will help the relevant company to capitalize on the opportunities of high potential locations while avoiding overcrowded areas to open a new restaurant."
        },
        {
            "cell_type": "code",
            "execution_count": null,
            "metadata": {},
            "outputs": [],
            "source": ""
        }
    ],
    "metadata": {
        "kernelspec": {
            "display_name": "Python 3.6",
            "language": "python",
            "name": "python3"
        },
        "language_info": {
            "codemirror_mode": {
                "name": "ipython",
                "version": 3
            },
            "file_extension": ".py",
            "mimetype": "text/x-python",
            "name": "python",
            "nbconvert_exporter": "python",
            "pygments_lexer": "ipython3",
            "version": "3.6.8"
        }
    },
    "nbformat": 4,
    "nbformat_minor": 1
}