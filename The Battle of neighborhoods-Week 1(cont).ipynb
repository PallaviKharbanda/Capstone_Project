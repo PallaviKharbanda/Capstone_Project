{
    "cells": [
        {
            "cell_type": "markdown",
            "metadata": {
                "collapsed": true
            },
            "source": "# The Battle of Neighborhoods - Week 1 (Part 2)"
        },
        {
            "cell_type": "markdown",
            "metadata": {},
            "source": "## Data:\n\nThe data used for this type of analysis will be acquired from NewYork City's Wikipedia website page. The dataset consists of postal codes, neighborhood names, latitide and longitude information for each neighborhood. Foursquare API search feature will be used to collect neighborhood venue information. Details about local venue and locality will provide an insight into the quality of neighborhood. In addition to Foursquare, various Python packages will be used to create maps and machine learning models to further provide insight into our The Battle of Neighborhoods project.\nThe following datasets are used from their websites:\n\nNewYork City Neighborhoods: https://geo.nyu.edu/catalog/nyu_2451_34572\n\nNewYork City Latitude and Longitude: Python Geopy Library\n\nPandas and numpy for handling data.\n\nRequest module for using FourSquare API.\n\nFolium to visualize the results on a map\n\n\n"
        },
        {
            "cell_type": "markdown",
            "metadata": {},
            "source": "## Methodology:\nThe main goal is to get the optimum location for a new restaurant business for a Foodchain company in terms of competition in the city of NewYork. NewYork city has a total of 5 boroughs (Bronx, Brooklyn, Manhattan, Staten Island and Queens) and 306 neighborhoods. In order to segement the neighborhoods and explore them, we essentially need a dataset that contains the 5 boroughs and the neighborhoods that exist in each borough as well as the the latitude and logitude coordinates of each neighborhood. Luckily, this dataset exists for free on the web. Here is the link to the dataset: https://geo.nyu.edu/catalog/nyu_2451_34572 After gathering the data, we will populate the data in Pandas DataFrame and then visualize the neighborhoods in a map using Folium package.\n\nNext we will use Foursquare API to get the top 200 venue data within radius of 1000 meters for those neighborhoods. Foursquare has one of the largest database of 105+ million places and is used by over 125000 developers. Foursquare API will provide many categories of the venue data out of that we will focus on restaurant category to help us solve the business problem put forward.\n\nLastly, we will perform clustering of data by using k-means clustering. We will obtain Silhouette Coefficient for clusters in range (2,10) and get the highest Silhouette Coefficient for n_clusters=2. Then we will run k-means to cluster the neighborhood into 2 clusters. The results will allow us to identify which neighorhoods have higher concentration of restaurants while which neighborhoods have fewer number. Based on the occurence of restaurants in different neighborhoods, we could answer the question as to which neighborhoods are more suitable to open new restaurant."
        },
        {
            "cell_type": "code",
            "execution_count": null,
            "metadata": {},
            "outputs": [],
            "source": ""
        }
    ],
    "metadata": {
        "kernelspec": {
            "display_name": "Python 3.6",
            "language": "python",
            "name": "python3"
        },
        "language_info": {
            "codemirror_mode": {
                "name": "ipython",
                "version": 3
            },
            "file_extension": ".py",
            "mimetype": "text/x-python",
            "name": "python",
            "nbconvert_exporter": "python",
            "pygments_lexer": "ipython3",
            "version": "3.6.8"
        }
    },
    "nbformat": 4,
    "nbformat_minor": 1
}